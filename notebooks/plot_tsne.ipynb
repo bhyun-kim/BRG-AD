{
 "cells": [
  {
   "cell_type": "code",
   "execution_count": 171,
   "metadata": {},
   "outputs": [],
   "source": [
    "import pickle\n",
    "import numpy as np\n",
    "\n",
    "# digits = load_digits(n_class=9)\n",
    "with open('/home/sss/BRG-AD/log/test/results.pkl', 'rb') as f:\n",
    "    outputs = pickle.load(f)\n"
   ]
  },
  {
   "cell_type": "code",
   "execution_count": 172,
   "metadata": {},
   "outputs": [
    {
     "name": "stdout",
     "output_type": "stream",
     "text": [
      "(30, 160) (30,)\n"
     ]
    }
   ],
   "source": [
    "X = [output for idx, label, output in outputs]\n",
    "Y = [label for idx, label, output in outputs]\n",
    "\n",
    "X, Y = np.array(X), np.array(Y)\n",
    "print(X.shape, Y.shape)"
   ]
  },
  {
   "cell_type": "code",
   "execution_count": 173,
   "metadata": {},
   "outputs": [],
   "source": [
    "import numpy as np\n",
    "from matplotlib import offsetbox\n",
    "from sklearn.preprocessing import MinMaxScaler\n"
   ]
  },
  {
   "cell_type": "code",
   "execution_count": 174,
   "metadata": {},
   "outputs": [],
   "source": [
    "from sklearn.decomposition import TruncatedSVD\n",
    "from sklearn.discriminant_analysis import LinearDiscriminantAnalysis\n",
    "from sklearn.ensemble import RandomTreesEmbedding\n",
    "from sklearn.manifold import (\n",
    "    TSNE,\n",
    ")\n",
    "from sklearn.neighbors import NeighborhoodComponentsAnalysis\n",
    "from sklearn.pipeline import make_pipeline\n",
    "from sklearn.random_projection import SparseRandomProjection"
   ]
  },
  {
   "cell_type": "code",
   "execution_count": 175,
   "metadata": {},
   "outputs": [],
   "source": [
    "\n",
    "embeddings = {\n",
    "    \"t-SNE embeedding\": TSNE(\n",
    "        n_components=2,\n",
    "        init=\"pca\",\n",
    "        learning_rate=\"auto\",\n",
    "        n_iter=500,\n",
    "        n_iter_without_progress=150,\n",
    "        n_jobs=2,\n",
    "        random_state=0,\n",
    "    ),\n",
    "}"
   ]
  },
  {
   "cell_type": "code",
   "execution_count": 176,
   "metadata": {},
   "outputs": [
    {
     "name": "stdout",
     "output_type": "stream",
     "text": [
      "Computing t-SNE embeedding...\n"
     ]
    },
    {
     "name": "stderr",
     "output_type": "stream",
     "text": [
      "/home/sss/anaconda3/envs/brg-ad/lib/python3.7/site-packages/sklearn/manifold/_t_sne.py:986: FutureWarning: The PCA initialization in TSNE will change to have the standard deviation of PC1 equal to 1e-4 in 1.2. This will ensure better convergence.\n",
      "  FutureWarning,\n"
     ]
    }
   ],
   "source": [
    "from time import time\n",
    "\n",
    "projections, timing = {}, {}\n",
    "for name, transformer in embeddings.items():\n",
    "    if name.startswith(\"Linear Discriminant Analysis\"):\n",
    "        data = X.copy()\n",
    "        data.flat[:: X.shape[1] + 1] += 0.01  # Make X invertible\n",
    "    else:\n",
    "        data = X\n",
    "\n",
    "    print(f\"Computing {name}...\")\n",
    "    start_time = time()\n",
    "    projections[name] = transformer.fit_transform(data, Y)\n",
    "    timing[name] = time() - start_time"
   ]
  },
  {
   "cell_type": "code",
   "execution_count": 177,
   "metadata": {},
   "outputs": [
    {
     "data": {
      "text/plain": [
       "<matplotlib.legend.Legend at 0x7f452fb59390>"
      ]
     },
     "execution_count": 177,
     "metadata": {},
     "output_type": "execute_result"
    },
    {
     "data": {
      "image/png": "[encoded data removed]",
      "text/plain": [
       "<Figure size 720x504 with 1 Axes>"
      ]
     },
     "metadata": {
      "needs_background": "light"
     },
     "output_type": "display_data"
    }
   ],
   "source": [
    "import matplotlib.pyplot as plt\n",
    "from mpl_toolkits.mplot3d import Axes3D\n",
    "\n",
    "# Creating figure\n",
    "fig = plt.figure(figsize = (10, 7))\n",
    "# ax = plt.axes(projection =\"3d\")\n",
    "\n",
    "\n",
    "for i in range(5):\n",
    "    plt.scatter(projections[name][Y==i, 0], projections[name][Y==i, 1])\n",
    "\n",
    "# plt.scatter(projections[name][:101, 0], projections[name][:101, 1])\n",
    "# plt.scatter(projections[name][101:101+72, 0], projections[name][101:101+72, 1])\n",
    "# plt.scatter(projections[name][101+72:101+72+54, 0], projections[name][101+72:101+72+54, 1])\n",
    "# plt.scatter(projections[name][101+72+54:101+72+54+34, 0], projections[name][101+72+54:101+72+54+34, 1])\n",
    "\n",
    "plt.legend(['Train_Normal', 'Train_Tendon Loss', 'Test_Normal', 'Test_Tendon Loss']) # , 'drift', 'weak_noise', 'strong_noise', 'over_loading'])\n",
    "\n",
    "# ax.scatter3D(projection_normal[:, 0], projection_normal[:, 1], projection_normal[:, 2])\n",
    "# ax.scatter3D(projection_anomaly[:, 0], projection_anomaly[:, 1], projection_anomaly[:, 2])"
   ]
  }
 ],
 "metadata": {
  "interpreter": {
   "hash": "855f15d1794c7ee64106a345468cf1f252eff05e800b7abfaf97a184adde19d4"
  },
  "kernelspec": {
   "display_name": "Python 3.8.8 ('auto-label')",
   "language": "python",
   "name": "python3"
  },
  "language_info": {
   "codemirror_mode": {
    "name": "ipython",
    "version": 3
   },
   "file_extension": ".py",
   "mimetype": "text/x-python",
   "name": "python",
   "nbconvert_exporter": "python",
   "pygments_lexer": "ipython3",
   "version": "3.7.13"
  },
  "orig_nbformat": 4
 },
 "nbformat": 4,
 "nbformat_minor": 2
}
